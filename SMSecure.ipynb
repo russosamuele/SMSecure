{
 "cells": [
  {
   "cell_type": "code",
   "execution_count": 3,
   "id": "initial_id",
   "metadata": {
    "collapsed": true,
    "ExecuteTime": {
     "end_time": "2023-10-26T21:06:43.547898Z",
     "start_time": "2023-10-26T21:06:43.524480Z"
    }
   },
   "outputs": [],
   "source": [
    "import numpy as np\n",
    "import pandas as pd"
   ]
  },
  {
   "cell_type": "markdown",
   "source": [
    "leggo il dataset e stampo un campione (prime 5 righe)"
   ],
   "metadata": {
    "collapsed": false
   },
   "id": "f0ae7d47d33e4006"
  },
  {
   "cell_type": "code",
   "execution_count": 5,
   "outputs": [
    {
     "data": {
      "text/plain": "        v1                                                 v2 Unnamed: 2  \\\n4307   ham  Ha ha - had popped down to the loo when you he...        NaN   \n3866   ham         Alright we're hooked up, where you guys at        NaN   \n2704  spam  FreeMsg: Fancy a flirt? Reply DATE now & join ...        NaN   \n1969  spam  You have won a guaranteed å£200 award or even ...        NaN   \n1615   ham                       Mm i had my food da from out        NaN   \n\n     Unnamed: 3 Unnamed: 4  \n4307        NaN        NaN  \n3866        NaN        NaN  \n2704        NaN        NaN  \n1969        NaN        NaN  \n1615        NaN        NaN  ",
      "text/html": "<div>\n<style scoped>\n    .dataframe tbody tr th:only-of-type {\n        vertical-align: middle;\n    }\n\n    .dataframe tbody tr th {\n        vertical-align: top;\n    }\n\n    .dataframe thead th {\n        text-align: right;\n    }\n</style>\n<table border=\"1\" class=\"dataframe\">\n  <thead>\n    <tr style=\"text-align: right;\">\n      <th></th>\n      <th>v1</th>\n      <th>v2</th>\n      <th>Unnamed: 2</th>\n      <th>Unnamed: 3</th>\n      <th>Unnamed: 4</th>\n    </tr>\n  </thead>\n  <tbody>\n    <tr>\n      <th>4307</th>\n      <td>ham</td>\n      <td>Ha ha - had popped down to the loo when you he...</td>\n      <td>NaN</td>\n      <td>NaN</td>\n      <td>NaN</td>\n    </tr>\n    <tr>\n      <th>3866</th>\n      <td>ham</td>\n      <td>Alright we're hooked up, where you guys at</td>\n      <td>NaN</td>\n      <td>NaN</td>\n      <td>NaN</td>\n    </tr>\n    <tr>\n      <th>2704</th>\n      <td>spam</td>\n      <td>FreeMsg: Fancy a flirt? Reply DATE now &amp; join ...</td>\n      <td>NaN</td>\n      <td>NaN</td>\n      <td>NaN</td>\n    </tr>\n    <tr>\n      <th>1969</th>\n      <td>spam</td>\n      <td>You have won a guaranteed å£200 award or even ...</td>\n      <td>NaN</td>\n      <td>NaN</td>\n      <td>NaN</td>\n    </tr>\n    <tr>\n      <th>1615</th>\n      <td>ham</td>\n      <td>Mm i had my food da from out</td>\n      <td>NaN</td>\n      <td>NaN</td>\n      <td>NaN</td>\n    </tr>\n  </tbody>\n</table>\n</div>"
     },
     "execution_count": 5,
     "metadata": {},
     "output_type": "execute_result"
    }
   ],
   "source": [
    "dataset = pd.read_csv('sms_dataset.csv', encoding=\"ISO-8859-1\")\n",
    "dataset.sample(5)"
   ],
   "metadata": {
    "collapsed": false,
    "ExecuteTime": {
     "end_time": "2023-10-26T21:09:12.858347Z",
     "start_time": "2023-10-26T21:09:12.789599Z"
    }
   },
   "id": "c1fd6db8aa0e48ea"
  },
  {
   "cell_type": "markdown",
   "source": [
    "numero righe e colonne del dataset"
   ],
   "metadata": {
    "collapsed": false
   },
   "id": "7d8ea3fabdf91f4f"
  },
  {
   "cell_type": "code",
   "execution_count": 7,
   "outputs": [
    {
     "data": {
      "text/plain": "(5572, 5)"
     },
     "execution_count": 7,
     "metadata": {},
     "output_type": "execute_result"
    }
   ],
   "source": [
    "dataset.shape"
   ],
   "metadata": {
    "collapsed": false,
    "ExecuteTime": {
     "end_time": "2023-10-26T21:11:28.185533Z",
     "start_time": "2023-10-26T21:11:28.182847Z"
    }
   },
   "id": "d3b52c2c42a257ba"
  },
  {
   "cell_type": "markdown",
   "source": [
    "## Data Cleaning"
   ],
   "metadata": {
    "collapsed": false
   },
   "id": "b273c5a0eaf442c8"
  },
  {
   "cell_type": "markdown",
   "source": [
    "stampo le info del dataset per fare una panoramica"
   ],
   "metadata": {
    "collapsed": false
   },
   "id": "8188b4fd084d7fb1"
  },
  {
   "cell_type": "code",
   "execution_count": 8,
   "outputs": [
    {
     "data": {
      "text/plain": "<bound method DataFrame.info of         v1                                                 v2 Unnamed: 2  \\\n0      ham  Go until jurong point, crazy.. Available only ...        NaN   \n1      ham                      Ok lar... Joking wif u oni...        NaN   \n2     spam  Free entry in 2 a wkly comp to win FA Cup fina...        NaN   \n3      ham  U dun say so early hor... U c already then say...        NaN   \n4      ham  Nah I don't think he goes to usf, he lives aro...        NaN   \n...    ...                                                ...        ...   \n5567  spam  This is the 2nd time we have tried 2 contact u...        NaN   \n5568   ham              Will Ì_ b going to esplanade fr home?        NaN   \n5569   ham  Pity, * was in mood for that. So...any other s...        NaN   \n5570   ham  The guy did some bitching but I acted like i'd...        NaN   \n5571   ham                         Rofl. Its true to its name        NaN   \n\n     Unnamed: 3 Unnamed: 4  \n0           NaN        NaN  \n1           NaN        NaN  \n2           NaN        NaN  \n3           NaN        NaN  \n4           NaN        NaN  \n...         ...        ...  \n5567        NaN        NaN  \n5568        NaN        NaN  \n5569        NaN        NaN  \n5570        NaN        NaN  \n5571        NaN        NaN  \n\n[5572 rows x 5 columns]>"
     },
     "execution_count": 8,
     "metadata": {},
     "output_type": "execute_result"
    }
   ],
   "source": [
    "dataset.info"
   ],
   "metadata": {
    "collapsed": false,
    "ExecuteTime": {
     "end_time": "2023-10-26T21:14:45.766685Z",
     "start_time": "2023-10-26T21:14:45.761180Z"
    }
   },
   "id": "8d59b9380a8dc68c"
  },
  {
   "cell_type": "markdown",
   "source": [
    "si può notare che ci sono delle colonne inutili (ultime 3), quindi vanno eliminate"
   ],
   "metadata": {
    "collapsed": false
   },
   "id": "8a634611ee80fbb2"
  },
  {
   "cell_type": "code",
   "execution_count": 11,
   "outputs": [
    {
     "data": {
      "text/plain": "        v1                                                 v2\n2473   ham                         Ok lor wat time Ì_ finish?\n5547  spam  Had your contract mobile 11 Mnths? Latest Moto...\n2870   ham  I actually did for the first time in a while. ...\n4740   ham  Many more happy returns of the day. I wish you...\n3014   ham   &lt;#&gt;  mins but i had to stop somewhere f...",
      "text/html": "<div>\n<style scoped>\n    .dataframe tbody tr th:only-of-type {\n        vertical-align: middle;\n    }\n\n    .dataframe tbody tr th {\n        vertical-align: top;\n    }\n\n    .dataframe thead th {\n        text-align: right;\n    }\n</style>\n<table border=\"1\" class=\"dataframe\">\n  <thead>\n    <tr style=\"text-align: right;\">\n      <th></th>\n      <th>v1</th>\n      <th>v2</th>\n    </tr>\n  </thead>\n  <tbody>\n    <tr>\n      <th>2473</th>\n      <td>ham</td>\n      <td>Ok lor wat time Ì_ finish?</td>\n    </tr>\n    <tr>\n      <th>5547</th>\n      <td>spam</td>\n      <td>Had your contract mobile 11 Mnths? Latest Moto...</td>\n    </tr>\n    <tr>\n      <th>2870</th>\n      <td>ham</td>\n      <td>I actually did for the first time in a while. ...</td>\n    </tr>\n    <tr>\n      <th>4740</th>\n      <td>ham</td>\n      <td>Many more happy returns of the day. I wish you...</td>\n    </tr>\n    <tr>\n      <th>3014</th>\n      <td>ham</td>\n      <td>&amp;lt;#&amp;gt;  mins but i had to stop somewhere f...</td>\n    </tr>\n  </tbody>\n</table>\n</div>"
     },
     "execution_count": 11,
     "metadata": {},
     "output_type": "execute_result"
    }
   ],
   "source": [
    "dataset.drop(columns=['Unnamed: 2', 'Unnamed: 3', 'Unnamed: 4'], inplace=True)\n",
    "dataset.sample(5)"
   ],
   "metadata": {
    "collapsed": false,
    "ExecuteTime": {
     "end_time": "2023-10-26T21:17:38.490129Z",
     "start_time": "2023-10-26T21:17:38.481074Z"
    }
   },
   "id": "c0e89199c5c7562e"
  },
  {
   "cell_type": "markdown",
   "source": [
    "rinomino le colonne v1 e v2 con nomi migliori"
   ],
   "metadata": {
    "collapsed": false
   },
   "id": "baee58d7f76379e7"
  },
  {
   "cell_type": "code",
   "execution_count": 15,
   "outputs": [
    {
     "data": {
      "text/plain": "     target                                               text\n14      ham                I HAVE A DATE ON SUNDAY WITH WILL!!\n377     ham  Well there's not a lot of things happening in ...\n1457   spam  CLAIRE here am havin borin time & am now alone...\n4487    ham          Call me when you get the chance plz &lt;3\n5320    ham               But we havent got da topic yet rite?",
      "text/html": "<div>\n<style scoped>\n    .dataframe tbody tr th:only-of-type {\n        vertical-align: middle;\n    }\n\n    .dataframe tbody tr th {\n        vertical-align: top;\n    }\n\n    .dataframe thead th {\n        text-align: right;\n    }\n</style>\n<table border=\"1\" class=\"dataframe\">\n  <thead>\n    <tr style=\"text-align: right;\">\n      <th></th>\n      <th>target</th>\n      <th>text</th>\n    </tr>\n  </thead>\n  <tbody>\n    <tr>\n      <th>14</th>\n      <td>ham</td>\n      <td>I HAVE A DATE ON SUNDAY WITH WILL!!</td>\n    </tr>\n    <tr>\n      <th>377</th>\n      <td>ham</td>\n      <td>Well there's not a lot of things happening in ...</td>\n    </tr>\n    <tr>\n      <th>1457</th>\n      <td>spam</td>\n      <td>CLAIRE here am havin borin time &amp; am now alone...</td>\n    </tr>\n    <tr>\n      <th>4487</th>\n      <td>ham</td>\n      <td>Call me when you get the chance plz &amp;lt;3</td>\n    </tr>\n    <tr>\n      <th>5320</th>\n      <td>ham</td>\n      <td>But we havent got da topic yet rite?</td>\n    </tr>\n  </tbody>\n</table>\n</div>"
     },
     "execution_count": 15,
     "metadata": {},
     "output_type": "execute_result"
    }
   ],
   "source": [
    "dataset.rename(columns={'v1':'target', 'v2':'text'}, inplace=True)\n",
    "dataset.sample(5)"
   ],
   "metadata": {
    "collapsed": false,
    "ExecuteTime": {
     "end_time": "2023-10-26T21:26:54.343585Z",
     "start_time": "2023-10-26T21:26:54.337984Z"
    }
   },
   "id": "f9bdc16d0b97a34d"
  },
  {
   "cell_type": "markdown",
   "source": [
    "ora devo traformare il target \"ham/spam\" in codifica binaria 0/1 quindi ho bisogno di sickitLearn e più nello specifico di LabelEncoder che viene utilizzato per convertire etichette categoriche in numeri interi in modo che possano essere utilizzate come input per algoritmi di machine learning. \n"
   ],
   "metadata": {
    "collapsed": false
   },
   "id": "f1d18dafb72968a7"
  },
  {
   "cell_type": "code",
   "execution_count": 14,
   "outputs": [],
   "source": [
    "from sklearn.preprocessing import LabelEncoder\n",
    "encoder = LabelEncoder()"
   ],
   "metadata": {
    "collapsed": false,
    "ExecuteTime": {
     "end_time": "2023-10-26T21:26:33.446538Z",
     "start_time": "2023-10-26T21:26:32.632209Z"
    }
   },
   "id": "b80d5d84af8a8fd"
  },
  {
   "cell_type": "code",
   "execution_count": 16,
   "outputs": [
    {
     "data": {
      "text/plain": "      target                                               text\n305        0  Yup... From what i remb... I think should be c...\n4228       0  Have you bookedthe hut? And also your time off...\n5426       0      Oh yeah! And my diet just flew out the window\n3493       1  You are being contacted by our dating service ...\n3143       0      Haha I heard that, text me when you're around",
      "text/html": "<div>\n<style scoped>\n    .dataframe tbody tr th:only-of-type {\n        vertical-align: middle;\n    }\n\n    .dataframe tbody tr th {\n        vertical-align: top;\n    }\n\n    .dataframe thead th {\n        text-align: right;\n    }\n</style>\n<table border=\"1\" class=\"dataframe\">\n  <thead>\n    <tr style=\"text-align: right;\">\n      <th></th>\n      <th>target</th>\n      <th>text</th>\n    </tr>\n  </thead>\n  <tbody>\n    <tr>\n      <th>305</th>\n      <td>0</td>\n      <td>Yup... From what i remb... I think should be c...</td>\n    </tr>\n    <tr>\n      <th>4228</th>\n      <td>0</td>\n      <td>Have you bookedthe hut? And also your time off...</td>\n    </tr>\n    <tr>\n      <th>5426</th>\n      <td>0</td>\n      <td>Oh yeah! And my diet just flew out the window</td>\n    </tr>\n    <tr>\n      <th>3493</th>\n      <td>1</td>\n      <td>You are being contacted by our dating service ...</td>\n    </tr>\n    <tr>\n      <th>3143</th>\n      <td>0</td>\n      <td>Haha I heard that, text me when you're around</td>\n    </tr>\n  </tbody>\n</table>\n</div>"
     },
     "execution_count": 16,
     "metadata": {},
     "output_type": "execute_result"
    }
   ],
   "source": [
    "dataset['target'] = encoder.fit_transform(dataset['target'])\n",
    "dataset.sample(5)"
   ],
   "metadata": {
    "collapsed": false,
    "ExecuteTime": {
     "end_time": "2023-10-26T21:28:34.359892Z",
     "start_time": "2023-10-26T21:28:34.351109Z"
    }
   },
   "id": "30dc474ac7278d91"
  },
  {
   "cell_type": "markdown",
   "source": [
    "quindi ora gli spam saranno indicati come 1, gli ham come 0"
   ],
   "metadata": {
    "collapsed": false
   },
   "id": "ebca9c820092678a"
  },
  {
   "cell_type": "markdown",
   "source": [
    "controllo se sono presenti valori nulli o duplicati, e nel caso risolvo"
   ],
   "metadata": {
    "collapsed": false
   },
   "id": "b7f3f46468e6eefc"
  },
  {
   "cell_type": "code",
   "execution_count": 18,
   "outputs": [
    {
     "data": {
      "text/plain": "target    0\ntext      0\ndtype: int64"
     },
     "execution_count": 18,
     "metadata": {},
     "output_type": "execute_result"
    }
   ],
   "source": [
    "dataset.isnull().sum()"
   ],
   "metadata": {
    "collapsed": false,
    "ExecuteTime": {
     "end_time": "2023-10-26T21:33:06.225618Z",
     "start_time": "2023-10-26T21:33:06.222022Z"
    }
   },
   "id": "15b3122bd2b4cb8"
  },
  {
   "cell_type": "markdown",
   "source": [
    "non ci sono valori nulli, procedo a verificare eventuali duplicati"
   ],
   "metadata": {
    "collapsed": false
   },
   "id": "f03edcbc12ad3ee9"
  },
  {
   "cell_type": "code",
   "execution_count": 19,
   "outputs": [
    {
     "data": {
      "text/plain": "403"
     },
     "execution_count": 19,
     "metadata": {},
     "output_type": "execute_result"
    }
   ],
   "source": [
    "dataset.duplicated().sum()"
   ],
   "metadata": {
    "collapsed": false,
    "ExecuteTime": {
     "end_time": "2023-10-26T21:33:42.238064Z",
     "start_time": "2023-10-26T21:33:42.220883Z"
    }
   },
   "id": "699f99862a930ae2"
  },
  {
   "cell_type": "markdown",
   "source": [
    "procedo a rimuovere i 403 duplicati"
   ],
   "metadata": {
    "collapsed": false
   },
   "id": "be9208b2f46b8443"
  },
  {
   "cell_type": "code",
   "execution_count": 22,
   "outputs": [],
   "source": [
    "dataset = dataset.drop_duplicates(keep='first')"
   ],
   "metadata": {
    "collapsed": false,
    "ExecuteTime": {
     "end_time": "2023-10-26T21:35:57.300630Z",
     "start_time": "2023-10-26T21:35:57.284852Z"
    }
   },
   "id": "87d44eaecdb5a804"
  },
  {
   "cell_type": "code",
   "execution_count": 23,
   "outputs": [
    {
     "data": {
      "text/plain": "0"
     },
     "execution_count": 23,
     "metadata": {},
     "output_type": "execute_result"
    }
   ],
   "source": [
    "dataset.duplicated().sum()"
   ],
   "metadata": {
    "collapsed": false,
    "ExecuteTime": {
     "end_time": "2023-10-26T21:36:09.017359Z",
     "start_time": "2023-10-26T21:36:09.001309Z"
    }
   },
   "id": "c5ef950f9c4a6b57"
  },
  {
   "cell_type": "markdown",
   "source": [
    "ho risolto! Ora il dataset ha 0 nulli e 0 duplicati"
   ],
   "metadata": {
    "collapsed": false
   },
   "id": "490c9aaccdbe4c39"
  },
  {
   "cell_type": "code",
   "execution_count": null,
   "outputs": [],
   "source": [],
   "metadata": {
    "collapsed": false
   },
   "id": "107cf4397e9b1284"
  }
 ],
 "metadata": {
  "kernelspec": {
   "display_name": "Python 3",
   "language": "python",
   "name": "python3"
  },
  "language_info": {
   "codemirror_mode": {
    "name": "ipython",
    "version": 2
   },
   "file_extension": ".py",
   "mimetype": "text/x-python",
   "name": "python",
   "nbconvert_exporter": "python",
   "pygments_lexer": "ipython2",
   "version": "2.7.6"
  }
 },
 "nbformat": 4,
 "nbformat_minor": 5
}
